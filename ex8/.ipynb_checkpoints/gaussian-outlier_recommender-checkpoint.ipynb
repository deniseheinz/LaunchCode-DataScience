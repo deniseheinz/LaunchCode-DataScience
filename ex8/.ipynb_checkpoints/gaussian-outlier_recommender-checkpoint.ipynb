{
 "cells": [
  {
   "cell_type": "markdown",
   "metadata": {},
   "source": [
    "## Programming Exercise 8: Anomaly Detection and Recommender Systems"
   ]
  },
  {
   "cell_type": "code",
   "execution_count": 2,
   "metadata": {},
   "outputs": [],
   "source": [
    "%matplotlib inline\n",
    "import numpy as np\n",
    "import matplotlib.pyplot as plt\n",
    "import scipy.io #Used to load the OCTAVE *.mat files\n",
    "import scipy.optimize #Use for fmincg"
   ]
  },
  {
   "cell_type": "markdown",
   "metadata": {},
   "source": [
    "### 1 Anomaly detection"
   ]
  },
  {
   "cell_type": "code",
   "execution_count": 92,
   "metadata": {},
   "outputs": [],
   "source": [
    "datafile = 'ex8data1.mat'\n",
    "mat = scipy.io.loadmat( datafile )\n",
    "X = mat['X']\n",
    "ycv = mat['yval']\n",
    "Xcv = mat['Xval']"
   ]
  },
  {
   "cell_type": "code",
   "execution_count": 93,
   "metadata": {},
   "outputs": [],
   "source": [
    "# Visualize the data\n",
    "def plotData(myX, newFig=False):\n",
    "    if newFig:\n",
    "        plt.figure(figsize=(8,6))\n",
    "    plt.plot(myX[:,0], myX[:,1],'b+')\n",
    "    plt.xlabel('Latency [ms]',fontsize=16)\n",
    "    plt.ylabel('Throughput [mb/s]',fontsize=16)\n",
    "    plt.grid(True)"
   ]
  },
  {
   "cell_type": "code",
   "execution_count": 94,
   "metadata": {},
   "outputs": [
    {
     "data": {
      "image/png": "[encoded data removed]",
      "text/plain": [
       "<matplotlib.figure.Figure at 0x1811b50390>"
      ]
     },
     "metadata": {},
     "output_type": "display_data"
    }
   ],
   "source": [
    "plotData(X)"
   ]
  },
  {
   "cell_type": "markdown",
   "metadata": {},
   "source": [
    "#### 1.1 Gaussian distribution"
   ]
  },
  {
   "cell_type": "code",
   "execution_count": 215,
   "metadata": {},
   "outputs": [],
   "source": [
    "def gaus(myX, mymu, mysig2):\n",
    "    \"\"\"\n",
    "    Function to compute the gaussian return values for a feature\n",
    "    matrix, myX, given the already computed mu vector and sigma matrix.\n",
    "    If sigma is a vector, it is turned into a diagonal matrix\n",
    "    Uses a loop over rows; I didn't quite figure out a vectorized implementation.\n",
    "    \"\"\"\n",
    "    m = myX.shape[0]\n",
    "    n = myX.shape[1]#should be number of features, 2\n",
    "    if np.ndim(mysig2) == 1:\n",
    "        mysig2 = np.diag(mysig2)\n",
    "        #norm=((2*np.pi)**(-n/2)*(np.linalg.det(mysig2)**(-0.5)))\n",
    "        norm=mysig2/(np.linalg.norm(mysig2))\n",
    "        myinv=np.linalg.pinv(mysig2)\n",
    "        #myexp = myinv**2#squares stdev for variance\n",
    "        myexp=mysig2**2\n",
    "        #myexp=np.array(np.ones([m,1]))\n",
    "        for i in range(m):\n",
    "            xrow = myX[i]\n",
    "            myexp[i] = np.exp(-0.5*((xrow-mymu).T).dot(myinv).dot(xrow-mymu))\n",
    "        return norm*myexp\n",
    "    #elif np.ndim(mysig2)==0:\n",
    "    #    return ((2*np.pi*mysig2)**-2)*np.exp(-(X-mu)**2/(2*mysig2**2))*np.linalg.norm(z)"
   ]
  },
  {
   "cell_type": "markdown",
   "metadata": {},
   "source": [
    "#### 1.2 Estimating parameters for a Gaussian"
   ]
  },
  {
   "cell_type": "code",
   "execution_count": 216,
   "metadata": {},
   "outputs": [],
   "source": [
    "def getGaussianParams(myX,useMultivariate = True):\n",
    "    \"\"\"\n",
    "    Function that given a feature matrix X that is (m x n)\n",
    "    returns a mean vector and a sigmasquared vector that are\n",
    "    both (n x 1) in shape.\n",
    "    This can do it either as a 1D gaussian for each feature,\n",
    "    or as a multivariate gaussian.\n",
    "    \"\"\"\n",
    "    m = myX.shape[0]\n",
    "    mu = np.mean(myX,axis=0)\n",
    "    if not useMultivariate:\n",
    "        sigma2 = np.var(myX)\n",
    "        return mu, sigma2\n",
    "    else:\n",
    "        sigma2 = np.var(myX,axis=0)\n",
    "        return mu, sigma2"
   ]
  },
  {
   "cell_type": "code",
   "execution_count": 217,
   "metadata": {},
   "outputs": [],
   "source": [
    "mu, sig2 = getGaussianParams(X, True)"
   ]
  },
  {
   "cell_type": "code",
   "execution_count": 218,
   "metadata": {},
   "outputs": [
    {
     "data": {
      "text/plain": [
       "array([0.08018736, 0.08114759, 0.0794341 , 0.0839017 , 0.08461861,\n",
       "       0.08394282, 0.08349293, 0.08659289, 0.08163333, 0.08219362])"
      ]
     },
     "execution_count": 218,
     "metadata": {},
     "output_type": "execute_result"
    }
   ],
   "source": [
    "sig2"
   ]
  },
  {
   "cell_type": "markdown",
   "metadata": {},
   "source": [
    "##### 1.2.1 Visualizing the Gaussian probability contours"
   ]
  },
  {
   "cell_type": "code",
   "execution_count": 219,
   "metadata": {},
   "outputs": [],
   "source": [
    "def plotContours(mymu, mysigma2, newFig=False, useMultivariate = True):\n",
    "    delta = .5\n",
    "    myx = np.arange(0,30,delta)\n",
    "    myy = np.arange(0,30,delta)\n",
    "    meshx, meshy = np.meshgrid(myx, myy)\n",
    "    coord_list = [ entry.ravel() for entry in (meshx, meshy) ]\n",
    "    points = np.vstack(coord_list).T\n",
    "    myz = gaus(points, mymu, mysigma2)\n",
    "    #if not useMultivariate:\n",
    "    #    myz = gausOrthog(points, mymu, mysigma2)\n",
    "    #else: myz = gausMV(points, mymu, mysigma2)\n",
    "    myz = myz.reshape((myx.shape[0],myx.shape[0]))\n",
    "\n",
    "    if newFig: plt.figure(figsize=(6,4))\n",
    "    \n",
    "    cont_levels = [10**exp for exp in range(-20,0,3)]\n",
    "    mycont = plt.contour(meshx, meshy, myz, levels=cont_levels)\n",
    "\n",
    "    plt.title('Gaussian Contours',fontsize=16)"
   ]
  },
  {
   "cell_type": "code",
   "execution_count": 220,
   "metadata": {},
   "outputs": [
    {
     "ename": "ValueError",
     "evalue": "operands could not be broadcast together with shapes (2,) (10,) ",
     "output_type": "error",
     "traceback": [
      "\u001b[0;31m---------------------------------------------------------------------------\u001b[0m",
      "\u001b[0;31mValueError\u001b[0m                                Traceback (most recent call last)",
      "\u001b[0;32m<ipython-input-220-5bd2ced6efb4>\u001b[0m in \u001b[0;36m<module>\u001b[0;34m()\u001b[0m\n\u001b[1;32m      7\u001b[0m \u001b[0mplotData\u001b[0m\u001b[0;34m(\u001b[0m\u001b[0mX\u001b[0m\u001b[0;34m,\u001b[0m \u001b[0mnewFig\u001b[0m\u001b[0;34m=\u001b[0m\u001b[0;32mTrue\u001b[0m\u001b[0;34m)\u001b[0m\u001b[0;34m\u001b[0m\u001b[0m\n\u001b[1;32m      8\u001b[0m \u001b[0museMV\u001b[0m \u001b[0;34m=\u001b[0m \u001b[0;32mTrue\u001b[0m\u001b[0;34m\u001b[0m\u001b[0m\n\u001b[0;32m----> 9\u001b[0;31m \u001b[0mplotContours\u001b[0m\u001b[0;34m(\u001b[0m\u001b[0;34m*\u001b[0m\u001b[0mgetGaussianParams\u001b[0m\u001b[0;34m(\u001b[0m\u001b[0mX\u001b[0m\u001b[0;34m,\u001b[0m \u001b[0museMV\u001b[0m\u001b[0;34m)\u001b[0m\u001b[0;34m,\u001b[0m \u001b[0mnewFig\u001b[0m\u001b[0;34m=\u001b[0m\u001b[0;32mFalse\u001b[0m\u001b[0;34m,\u001b[0m \u001b[0museMultivariate\u001b[0m \u001b[0;34m=\u001b[0m \u001b[0museMV\u001b[0m\u001b[0;34m)\u001b[0m\u001b[0;34m\u001b[0m\u001b[0m\n\u001b[0m",
      "\u001b[0;32m<ipython-input-219-d333b6b0015f>\u001b[0m in \u001b[0;36mplotContours\u001b[0;34m(mymu, mysigma2, newFig, useMultivariate)\u001b[0m\n\u001b[1;32m      6\u001b[0m     \u001b[0mcoord_list\u001b[0m \u001b[0;34m=\u001b[0m \u001b[0;34m[\u001b[0m \u001b[0mentry\u001b[0m\u001b[0;34m.\u001b[0m\u001b[0mravel\u001b[0m\u001b[0;34m(\u001b[0m\u001b[0;34m)\u001b[0m \u001b[0;32mfor\u001b[0m \u001b[0mentry\u001b[0m \u001b[0;32min\u001b[0m \u001b[0;34m(\u001b[0m\u001b[0mmeshx\u001b[0m\u001b[0;34m,\u001b[0m \u001b[0mmeshy\u001b[0m\u001b[0;34m)\u001b[0m \u001b[0;34m]\u001b[0m\u001b[0;34m\u001b[0m\u001b[0m\n\u001b[1;32m      7\u001b[0m     \u001b[0mpoints\u001b[0m \u001b[0;34m=\u001b[0m \u001b[0mnp\u001b[0m\u001b[0;34m.\u001b[0m\u001b[0mvstack\u001b[0m\u001b[0;34m(\u001b[0m\u001b[0mcoord_list\u001b[0m\u001b[0;34m)\u001b[0m\u001b[0;34m.\u001b[0m\u001b[0mT\u001b[0m\u001b[0;34m\u001b[0m\u001b[0m\n\u001b[0;32m----> 8\u001b[0;31m     \u001b[0mmyz\u001b[0m \u001b[0;34m=\u001b[0m \u001b[0mgaus\u001b[0m\u001b[0;34m(\u001b[0m\u001b[0mpoints\u001b[0m\u001b[0;34m,\u001b[0m \u001b[0mmymu\u001b[0m\u001b[0;34m,\u001b[0m \u001b[0mmysigma2\u001b[0m\u001b[0;34m)\u001b[0m\u001b[0;34m\u001b[0m\u001b[0m\n\u001b[0m\u001b[1;32m      9\u001b[0m     \u001b[0;31m#if not useMultivariate:\u001b[0m\u001b[0;34m\u001b[0m\u001b[0;34m\u001b[0m\u001b[0m\n\u001b[1;32m     10\u001b[0m     \u001b[0;31m#    myz = gausOrthog(points, mymu, mysigma2)\u001b[0m\u001b[0;34m\u001b[0m\u001b[0;34m\u001b[0m\u001b[0m\n",
      "\u001b[0;32m<ipython-input-215-9defd0352d3b>\u001b[0m in \u001b[0;36mgaus\u001b[0;34m(myX, mymu, mysig2)\u001b[0m\n\u001b[1;32m     18\u001b[0m         \u001b[0;32mfor\u001b[0m \u001b[0mi\u001b[0m \u001b[0;32min\u001b[0m \u001b[0mrange\u001b[0m\u001b[0;34m(\u001b[0m\u001b[0mm\u001b[0m\u001b[0;34m)\u001b[0m\u001b[0;34m:\u001b[0m\u001b[0;34m\u001b[0m\u001b[0m\n\u001b[1;32m     19\u001b[0m             \u001b[0mxrow\u001b[0m \u001b[0;34m=\u001b[0m \u001b[0mmyX\u001b[0m\u001b[0;34m[\u001b[0m\u001b[0mi\u001b[0m\u001b[0;34m]\u001b[0m\u001b[0;34m\u001b[0m\u001b[0m\n\u001b[0;32m---> 20\u001b[0;31m             \u001b[0mmyexp\u001b[0m\u001b[0;34m[\u001b[0m\u001b[0mi\u001b[0m\u001b[0;34m]\u001b[0m \u001b[0;34m=\u001b[0m \u001b[0mnp\u001b[0m\u001b[0;34m.\u001b[0m\u001b[0mexp\u001b[0m\u001b[0;34m(\u001b[0m\u001b[0;34m-\u001b[0m\u001b[0;36m0.5\u001b[0m\u001b[0;34m*\u001b[0m\u001b[0;34m(\u001b[0m\u001b[0;34m(\u001b[0m\u001b[0mxrow\u001b[0m\u001b[0;34m-\u001b[0m\u001b[0mmymu\u001b[0m\u001b[0;34m)\u001b[0m\u001b[0;34m.\u001b[0m\u001b[0mT\u001b[0m\u001b[0;34m)\u001b[0m\u001b[0;34m.\u001b[0m\u001b[0mdot\u001b[0m\u001b[0;34m(\u001b[0m\u001b[0mmyinv\u001b[0m\u001b[0;34m)\u001b[0m\u001b[0;34m.\u001b[0m\u001b[0mdot\u001b[0m\u001b[0;34m(\u001b[0m\u001b[0mxrow\u001b[0m\u001b[0;34m-\u001b[0m\u001b[0mmymu\u001b[0m\u001b[0;34m)\u001b[0m\u001b[0;34m)\u001b[0m\u001b[0;34m\u001b[0m\u001b[0m\n\u001b[0m\u001b[1;32m     21\u001b[0m         \u001b[0;32mreturn\u001b[0m \u001b[0mnorm\u001b[0m\u001b[0;34m*\u001b[0m\u001b[0mmyexp\u001b[0m\u001b[0;34m\u001b[0m\u001b[0m\n\u001b[1;32m     22\u001b[0m     \u001b[0;31m#elif np.ndim(mysig2)==0:\u001b[0m\u001b[0;34m\u001b[0m\u001b[0;34m\u001b[0m\u001b[0m\n",
      "\u001b[0;31mValueError\u001b[0m: operands could not be broadcast together with shapes (2,) (10,) "
     ]
    },
    {
     "data": {
      "image/png": "[encoded data removed]",
      "text/plain": [
       "<matplotlib.figure.Figure at 0x1811ab27f0>"
      ]
     },
     "metadata": {},
     "output_type": "display_data"
    }
   ],
   "source": [
    "# First contours without using multivariate gaussian:\n",
    "#plotData(X, newFig=True)#original Data\n",
    "#useMV = False #no multivariate\n",
    "#plotContours(*getGaussianParams(X, useMV), newFig=False, useMultivariate = useMV)\n",
    "\n",
    "#Then contours with multivariate gaussian:\n",
    "plotData(X, newFig=True)\n",
    "useMV = True\n",
    "plotContours(*getGaussianParams(X, useMV), newFig=False, useMultivariate = useMV)"
   ]
  },
  {
   "cell_type": "markdown",
   "metadata": {},
   "source": [
    "#### 1.3 Selecting the threshold, $\\epsilon$"
   ]
  },
  {
   "cell_type": "code",
   "execution_count": 110,
   "metadata": {},
   "outputs": [],
   "source": [
    "def computeF1(predVec, trueVec):\n",
    "    \"\"\"\n",
    "    F1 = 2 * (P*R)/(P+R)\n",
    "    where P is precision, R is recall\n",
    "    Precision = \"of all predicted y=1, what fraction had true y=1\"\n",
    "    Recall = \"of all true y=1, what fraction predicted y=1?\n",
    "    Note predictionVec and trueLabelVec should be boolean vectors.\n",
    "    \"\"\"\n",
    "    #print predVec.shape\n",
    "    #print trueVec.shape\n",
    "    #assert predVec.shape == trueVec.shape\n",
    "    true_positive=np.logical_and((predVec==1),(trueVec==1))\n",
    "    true_positive=np.sum(true_positive)\n",
    "    false_positive=np.logical_and((predVec==1),(trueVec==0))\n",
    "    false_positive=np.sum(false_positive)\n",
    "    false_negative=np.logical_and((predVec==0),(trueVec==1))\n",
    "    false_negative=np.sum(false_negative\n",
    "                         )\n",
    "    P, R = 0., 0.\n",
    "    P=true_positive/(true_positive+false_positive)\n",
    "    R=true_positive/(true_positive+false_negative)\n",
    "    F1=(2*P*R)/(P+R)\n",
    "    \n",
    "    \n",
    "    return F1\n",
    "    "
   ]
  },
  {
   "cell_type": "code",
   "execution_count": 111,
   "metadata": {},
   "outputs": [],
   "source": [
    "def selectThreshold(myycv, mypCVs):\n",
    "    \"\"\"\n",
    "    Function to select the best epsilon value from the CV set\n",
    "    by looping over possible epsilon values and computing the F1\n",
    "    score for each.\n",
    "    \"\"\"\n",
    "    # Make a list of possible epsilon values\n",
    "    nsteps = 1000\n",
    "    epses = np.linspace(np.min(mypCVs),np.max(mypCVs),nsteps)\n",
    "    \n",
    "    # Compute the F1 score for each epsilon value, and store the best \n",
    "    # F1 score (and corresponding best epsilon)\n",
    "    bestF1, bestEps = 0, 0\n",
    "    trueVec = (myycv == 1).flatten()\n",
    "    for eps in epses:\n",
    "        predVec = (mypCVs < eps)*1\n",
    "        thisF1 = computeF1(predVec, trueVec)\n",
    "        if thisF1 > bestF1:\n",
    "            bestF1 = thisF1\n",
    "            bestEps = eps\n",
    "            \n",
    "    print(\"Best F1 is %f, best eps is %0.4g.\"%(bestF1,bestEps))\n",
    "    return bestF1, bestEps\n",
    "        "
   ]
  },
  {
   "cell_type": "code",
   "execution_count": 112,
   "metadata": {},
   "outputs": [
    {
     "ename": "IndexError",
     "evalue": "index 2 is out of bounds for axis 0 with size 2",
     "output_type": "error",
     "traceback": [
      "\u001b[0;31m---------------------------------------------------------------------------\u001b[0m",
      "\u001b[0;31mIndexError\u001b[0m                                Traceback (most recent call last)",
      "\u001b[0;32m<ipython-input-112-d814afe0a764>\u001b[0m in \u001b[0;36m<module>\u001b[0;34m()\u001b[0m\n\u001b[1;32m      1\u001b[0m \u001b[0;31m# Using the gaussian parameters from the full training set,\u001b[0m\u001b[0;34m\u001b[0m\u001b[0;34m\u001b[0m\u001b[0m\n\u001b[1;32m      2\u001b[0m \u001b[0;31m# figure out the p-value for each point in the CV set\u001b[0m\u001b[0;34m\u001b[0m\u001b[0;34m\u001b[0m\u001b[0m\n\u001b[0;32m----> 3\u001b[0;31m \u001b[0mpCVs\u001b[0m \u001b[0;34m=\u001b[0m \u001b[0mgaus\u001b[0m\u001b[0;34m(\u001b[0m\u001b[0mXcv\u001b[0m\u001b[0;34m,\u001b[0m \u001b[0mmu\u001b[0m\u001b[0;34m,\u001b[0m \u001b[0msig2\u001b[0m\u001b[0;34m)\u001b[0m\u001b[0;34m\u001b[0m\u001b[0m\n\u001b[0m\u001b[1;32m      4\u001b[0m \u001b[0;34m\u001b[0m\u001b[0m\n\u001b[1;32m      5\u001b[0m \u001b[0;31m#You should see a value for epsilon of about 8.99e-05.\u001b[0m\u001b[0;34m\u001b[0m\u001b[0;34m\u001b[0m\u001b[0m\n",
      "\u001b[0;32m<ipython-input-104-1b54b196d01f>\u001b[0m in \u001b[0;36mgaus\u001b[0;34m(myX, mymu, mysig2)\u001b[0m\n\u001b[1;32m     19\u001b[0m         \u001b[0;32mfor\u001b[0m \u001b[0mirow\u001b[0m \u001b[0;32min\u001b[0m \u001b[0mrange\u001b[0m\u001b[0;34m(\u001b[0m\u001b[0mm\u001b[0m\u001b[0;34m)\u001b[0m\u001b[0;34m:\u001b[0m\u001b[0;34m\u001b[0m\u001b[0m\n\u001b[1;32m     20\u001b[0m             \u001b[0mxrow\u001b[0m \u001b[0;34m=\u001b[0m \u001b[0mmyX\u001b[0m\u001b[0;34m[\u001b[0m\u001b[0mirow\u001b[0m\u001b[0;34m]\u001b[0m\u001b[0;34m\u001b[0m\u001b[0m\n\u001b[0;32m---> 21\u001b[0;31m             \u001b[0mmyexp\u001b[0m\u001b[0;34m[\u001b[0m\u001b[0mirow\u001b[0m\u001b[0;34m]\u001b[0m \u001b[0;34m=\u001b[0m \u001b[0mnp\u001b[0m\u001b[0;34m.\u001b[0m\u001b[0mexp\u001b[0m\u001b[0;34m(\u001b[0m\u001b[0;34m-\u001b[0m\u001b[0;36m0.5\u001b[0m\u001b[0;34m*\u001b[0m\u001b[0;34m(\u001b[0m\u001b[0;34m(\u001b[0m\u001b[0mxrow\u001b[0m\u001b[0;34m-\u001b[0m\u001b[0mmymu\u001b[0m\u001b[0;34m)\u001b[0m\u001b[0;34m.\u001b[0m\u001b[0mT\u001b[0m\u001b[0;34m)\u001b[0m\u001b[0;34m.\u001b[0m\u001b[0mdot\u001b[0m\u001b[0;34m(\u001b[0m\u001b[0mmyinv\u001b[0m\u001b[0;34m)\u001b[0m\u001b[0;34m.\u001b[0m\u001b[0mdot\u001b[0m\u001b[0;34m(\u001b[0m\u001b[0mxrow\u001b[0m\u001b[0;34m-\u001b[0m\u001b[0mmymu\u001b[0m\u001b[0;34m)\u001b[0m\u001b[0;34m)\u001b[0m\u001b[0;34m\u001b[0m\u001b[0m\n\u001b[0m\u001b[1;32m     22\u001b[0m         \u001b[0;32mreturn\u001b[0m \u001b[0mnorm\u001b[0m\u001b[0;34m*\u001b[0m\u001b[0mmyexp\u001b[0m\u001b[0;34m\u001b[0m\u001b[0m\n\u001b[1;32m     23\u001b[0m     \u001b[0;31m#elif np.ndim(mysig2)==0:\u001b[0m\u001b[0;34m\u001b[0m\u001b[0;34m\u001b[0m\u001b[0m\n",
      "\u001b[0;31mIndexError\u001b[0m: index 2 is out of bounds for axis 0 with size 2"
     ]
    }
   ],
   "source": [
    "# Using the gaussian parameters from the full training set,\n",
    "# figure out the p-value for each point in the CV set\n",
    "pCVs = gaus(Xcv, mu, sig2)\n",
    "\n",
    "#You should see a value for epsilon of about 8.99e-05.\n",
    "bestF1, bestEps = selectThreshold(ycv, pCVs)"
   ]
  },
  {
   "cell_type": "code",
   "execution_count": 113,
   "metadata": {},
   "outputs": [],
   "source": [
    "def plotAnomalies(myX, mybestEps, newFig = False, useMultivariate = True):\n",
    "    ps = gaus(myX, *getGaussianParams(myX, useMultivariate))\n",
    "    anoms = np.array([myX[x] for x in range(myX.shape[0]) if ps[x] < mybestEps])\n",
    "    if newFig: plt.figure(figsize=(6,4))\n",
    "    plt.scatter(anoms[:,0],anoms[:,1], s=80, facecolors='none', edgecolors='r')"
   ]
  },
  {
   "cell_type": "code",
   "execution_count": 114,
   "metadata": {},
   "outputs": [
    {
     "ename": "IndexError",
     "evalue": "index 2 is out of bounds for axis 0 with size 2",
     "output_type": "error",
     "traceback": [
      "\u001b[0;31m---------------------------------------------------------------------------\u001b[0m",
      "\u001b[0;31mIndexError\u001b[0m                                Traceback (most recent call last)",
      "\u001b[0;32m<ipython-input-114-93e6a1e7ab57>\u001b[0m in \u001b[0;36m<module>\u001b[0;34m()\u001b[0m\n\u001b[1;32m      1\u001b[0m \u001b[0mplotData\u001b[0m\u001b[0;34m(\u001b[0m\u001b[0mX\u001b[0m\u001b[0;34m,\u001b[0m \u001b[0mnewFig\u001b[0m\u001b[0;34m=\u001b[0m\u001b[0;32mTrue\u001b[0m\u001b[0;34m)\u001b[0m\u001b[0;34m\u001b[0m\u001b[0m\n\u001b[0;32m----> 2\u001b[0;31m \u001b[0mplotContours\u001b[0m\u001b[0;34m(\u001b[0m\u001b[0mmu\u001b[0m\u001b[0;34m,\u001b[0m \u001b[0msig2\u001b[0m\u001b[0;34m,\u001b[0m \u001b[0mnewFig\u001b[0m\u001b[0;34m=\u001b[0m\u001b[0;32mFalse\u001b[0m\u001b[0;34m,\u001b[0m \u001b[0museMultivariate\u001b[0m\u001b[0;34m=\u001b[0m\u001b[0;32mTrue\u001b[0m\u001b[0;34m)\u001b[0m\u001b[0;34m\u001b[0m\u001b[0m\n\u001b[0m\u001b[1;32m      3\u001b[0m \u001b[0mplotAnomalies\u001b[0m\u001b[0;34m(\u001b[0m\u001b[0mX\u001b[0m\u001b[0;34m,\u001b[0m \u001b[0mbestEps\u001b[0m\u001b[0;34m,\u001b[0m \u001b[0mnewFig\u001b[0m\u001b[0;34m=\u001b[0m\u001b[0;32mFalse\u001b[0m\u001b[0;34m,\u001b[0m \u001b[0museMultivariate\u001b[0m\u001b[0;34m=\u001b[0m\u001b[0;32mTrue\u001b[0m\u001b[0;34m)\u001b[0m\u001b[0;34m\u001b[0m\u001b[0m\n",
      "\u001b[0;32m<ipython-input-108-d333b6b0015f>\u001b[0m in \u001b[0;36mplotContours\u001b[0;34m(mymu, mysigma2, newFig, useMultivariate)\u001b[0m\n\u001b[1;32m      6\u001b[0m     \u001b[0mcoord_list\u001b[0m \u001b[0;34m=\u001b[0m \u001b[0;34m[\u001b[0m \u001b[0mentry\u001b[0m\u001b[0;34m.\u001b[0m\u001b[0mravel\u001b[0m\u001b[0;34m(\u001b[0m\u001b[0;34m)\u001b[0m \u001b[0;32mfor\u001b[0m \u001b[0mentry\u001b[0m \u001b[0;32min\u001b[0m \u001b[0;34m(\u001b[0m\u001b[0mmeshx\u001b[0m\u001b[0;34m,\u001b[0m \u001b[0mmeshy\u001b[0m\u001b[0;34m)\u001b[0m \u001b[0;34m]\u001b[0m\u001b[0;34m\u001b[0m\u001b[0m\n\u001b[1;32m      7\u001b[0m     \u001b[0mpoints\u001b[0m \u001b[0;34m=\u001b[0m \u001b[0mnp\u001b[0m\u001b[0;34m.\u001b[0m\u001b[0mvstack\u001b[0m\u001b[0;34m(\u001b[0m\u001b[0mcoord_list\u001b[0m\u001b[0;34m)\u001b[0m\u001b[0;34m.\u001b[0m\u001b[0mT\u001b[0m\u001b[0;34m\u001b[0m\u001b[0m\n\u001b[0;32m----> 8\u001b[0;31m     \u001b[0mmyz\u001b[0m \u001b[0;34m=\u001b[0m \u001b[0mgaus\u001b[0m\u001b[0;34m(\u001b[0m\u001b[0mpoints\u001b[0m\u001b[0;34m,\u001b[0m \u001b[0mmymu\u001b[0m\u001b[0;34m,\u001b[0m \u001b[0mmysigma2\u001b[0m\u001b[0;34m)\u001b[0m\u001b[0;34m\u001b[0m\u001b[0m\n\u001b[0m\u001b[1;32m      9\u001b[0m     \u001b[0;31m#if not useMultivariate:\u001b[0m\u001b[0;34m\u001b[0m\u001b[0;34m\u001b[0m\u001b[0m\n\u001b[1;32m     10\u001b[0m     \u001b[0;31m#    myz = gausOrthog(points, mymu, mysigma2)\u001b[0m\u001b[0;34m\u001b[0m\u001b[0;34m\u001b[0m\u001b[0m\n",
      "\u001b[0;32m<ipython-input-104-1b54b196d01f>\u001b[0m in \u001b[0;36mgaus\u001b[0;34m(myX, mymu, mysig2)\u001b[0m\n\u001b[1;32m     19\u001b[0m         \u001b[0;32mfor\u001b[0m \u001b[0mirow\u001b[0m \u001b[0;32min\u001b[0m \u001b[0mrange\u001b[0m\u001b[0;34m(\u001b[0m\u001b[0mm\u001b[0m\u001b[0;34m)\u001b[0m\u001b[0;34m:\u001b[0m\u001b[0;34m\u001b[0m\u001b[0m\n\u001b[1;32m     20\u001b[0m             \u001b[0mxrow\u001b[0m \u001b[0;34m=\u001b[0m \u001b[0mmyX\u001b[0m\u001b[0;34m[\u001b[0m\u001b[0mirow\u001b[0m\u001b[0;34m]\u001b[0m\u001b[0;34m\u001b[0m\u001b[0m\n\u001b[0;32m---> 21\u001b[0;31m             \u001b[0mmyexp\u001b[0m\u001b[0;34m[\u001b[0m\u001b[0mirow\u001b[0m\u001b[0;34m]\u001b[0m \u001b[0;34m=\u001b[0m \u001b[0mnp\u001b[0m\u001b[0;34m.\u001b[0m\u001b[0mexp\u001b[0m\u001b[0;34m(\u001b[0m\u001b[0;34m-\u001b[0m\u001b[0;36m0.5\u001b[0m\u001b[0;34m*\u001b[0m\u001b[0;34m(\u001b[0m\u001b[0;34m(\u001b[0m\u001b[0mxrow\u001b[0m\u001b[0;34m-\u001b[0m\u001b[0mmymu\u001b[0m\u001b[0;34m)\u001b[0m\u001b[0;34m.\u001b[0m\u001b[0mT\u001b[0m\u001b[0;34m)\u001b[0m\u001b[0;34m.\u001b[0m\u001b[0mdot\u001b[0m\u001b[0;34m(\u001b[0m\u001b[0mmyinv\u001b[0m\u001b[0;34m)\u001b[0m\u001b[0;34m.\u001b[0m\u001b[0mdot\u001b[0m\u001b[0;34m(\u001b[0m\u001b[0mxrow\u001b[0m\u001b[0;34m-\u001b[0m\u001b[0mmymu\u001b[0m\u001b[0;34m)\u001b[0m\u001b[0;34m)\u001b[0m\u001b[0;34m\u001b[0m\u001b[0m\n\u001b[0m\u001b[1;32m     22\u001b[0m         \u001b[0;32mreturn\u001b[0m \u001b[0mnorm\u001b[0m\u001b[0;34m*\u001b[0m\u001b[0mmyexp\u001b[0m\u001b[0;34m\u001b[0m\u001b[0m\n\u001b[1;32m     23\u001b[0m     \u001b[0;31m#elif np.ndim(mysig2)==0:\u001b[0m\u001b[0;34m\u001b[0m\u001b[0;34m\u001b[0m\u001b[0m\n",
      "\u001b[0;31mIndexError\u001b[0m: index 2 is out of bounds for axis 0 with size 2"
     ]
    },
    {
     "data": {
      "image/png": "[encoded data removed]",
      "text/plain": [
       "<matplotlib.figure.Figure at 0x18120029b0>"
      ]
     },
     "metadata": {},
     "output_type": "display_data"
    }
   ],
   "source": [
    "plotData(X, newFig=True)\n",
    "plotContours(mu, sig2, newFig=False, useMultivariate=True)\n",
    "plotAnomalies(X, bestEps, newFig=False, useMultivariate=True)"
   ]
  },
  {
   "cell_type": "markdown",
   "metadata": {},
   "source": [
    "#### 1.4 High dimensional dataset"
   ]
  },
  {
   "cell_type": "code",
   "execution_count": 119,
   "metadata": {},
   "outputs": [
    {
     "name": "stdout",
     "output_type": "stream",
     "text": [
      "Xpart2 shape is  (1000, 11)\n"
     ]
    }
   ],
   "source": [
    "datafile = 'ex8data2.mat'\n",
    "mat = scipy.io.loadmat( datafile )\n",
    "Xpart2 = mat['X']\n",
    "ycvpart2 = mat['Xval']\n",
    "Xcvpart2 = mat['yval']\n",
    "print('Xpart2 shape is ', Xpart2.shape)"
   ]
  },
  {
   "cell_type": "code",
   "execution_count": 118,
   "metadata": {},
   "outputs": [
    {
     "name": "stdout",
     "output_type": "stream",
     "text": [
      "dict_keys(['__header__', '__version__', '__globals__', 'X', 'Xval', 'yval'])\n"
     ]
    }
   ],
   "source": [
    "print(mat.keys())"
   ]
  },
  {
   "cell_type": "code",
   "execution_count": 121,
   "metadata": {},
   "outputs": [
    {
     "ename": "IndexError",
     "evalue": "index 11 is out of bounds for axis 0 with size 11",
     "output_type": "error",
     "traceback": [
      "\u001b[0;31m---------------------------------------------------------------------------\u001b[0m",
      "\u001b[0;31mIndexError\u001b[0m                                Traceback (most recent call last)",
      "\u001b[0;32m<ipython-input-121-0d73a2979486>\u001b[0m in \u001b[0;36m<module>\u001b[0;34m()\u001b[0m\n\u001b[1;32m      1\u001b[0m \u001b[0mmu2\u001b[0m\u001b[0;34m,\u001b[0m \u001b[0msig_2\u001b[0m \u001b[0;34m=\u001b[0m \u001b[0mgetGaussianParams\u001b[0m\u001b[0;34m(\u001b[0m\u001b[0mXpart2\u001b[0m\u001b[0;34m,\u001b[0m \u001b[0museMultivariate\u001b[0m\u001b[0;34m=\u001b[0m\u001b[0;32mTrue\u001b[0m\u001b[0;34m)\u001b[0m\u001b[0;34m\u001b[0m\u001b[0m\n\u001b[0;32m----> 2\u001b[0;31m \u001b[0mps\u001b[0m \u001b[0;34m=\u001b[0m \u001b[0mgaus\u001b[0m\u001b[0;34m(\u001b[0m\u001b[0mXpart2\u001b[0m\u001b[0;34m,\u001b[0m \u001b[0mmu2\u001b[0m\u001b[0;34m,\u001b[0m \u001b[0msig_2\u001b[0m\u001b[0;34m)\u001b[0m\u001b[0;34m\u001b[0m\u001b[0m\n\u001b[0m\u001b[1;32m      3\u001b[0m \u001b[0mpsCV\u001b[0m \u001b[0;34m=\u001b[0m \u001b[0mgaus\u001b[0m\u001b[0;34m(\u001b[0m\u001b[0mXcvpart2\u001b[0m\u001b[0;34m,\u001b[0m \u001b[0mmu2\u001b[0m\u001b[0;34m,\u001b[0m \u001b[0msig_2\u001b[0m\u001b[0;34m)\u001b[0m\u001b[0;34m\u001b[0m\u001b[0m\n\u001b[1;32m      4\u001b[0m \u001b[0;34m\u001b[0m\u001b[0m\n\u001b[1;32m      5\u001b[0m \u001b[0;31m# Using the gaussian parameters from the full training set,\u001b[0m\u001b[0;34m\u001b[0m\u001b[0;34m\u001b[0m\u001b[0m\n",
      "\u001b[0;32m<ipython-input-104-1b54b196d01f>\u001b[0m in \u001b[0;36mgaus\u001b[0;34m(myX, mymu, mysig2)\u001b[0m\n\u001b[1;32m     19\u001b[0m         \u001b[0;32mfor\u001b[0m \u001b[0mirow\u001b[0m \u001b[0;32min\u001b[0m \u001b[0mrange\u001b[0m\u001b[0;34m(\u001b[0m\u001b[0mm\u001b[0m\u001b[0;34m)\u001b[0m\u001b[0;34m:\u001b[0m\u001b[0;34m\u001b[0m\u001b[0m\n\u001b[1;32m     20\u001b[0m             \u001b[0mxrow\u001b[0m \u001b[0;34m=\u001b[0m \u001b[0mmyX\u001b[0m\u001b[0;34m[\u001b[0m\u001b[0mirow\u001b[0m\u001b[0;34m]\u001b[0m\u001b[0;34m\u001b[0m\u001b[0m\n\u001b[0;32m---> 21\u001b[0;31m             \u001b[0mmyexp\u001b[0m\u001b[0;34m[\u001b[0m\u001b[0mirow\u001b[0m\u001b[0;34m]\u001b[0m \u001b[0;34m=\u001b[0m \u001b[0mnp\u001b[0m\u001b[0;34m.\u001b[0m\u001b[0mexp\u001b[0m\u001b[0;34m(\u001b[0m\u001b[0;34m-\u001b[0m\u001b[0;36m0.5\u001b[0m\u001b[0;34m*\u001b[0m\u001b[0;34m(\u001b[0m\u001b[0;34m(\u001b[0m\u001b[0mxrow\u001b[0m\u001b[0;34m-\u001b[0m\u001b[0mmymu\u001b[0m\u001b[0;34m)\u001b[0m\u001b[0;34m.\u001b[0m\u001b[0mT\u001b[0m\u001b[0;34m)\u001b[0m\u001b[0;34m.\u001b[0m\u001b[0mdot\u001b[0m\u001b[0;34m(\u001b[0m\u001b[0mmyinv\u001b[0m\u001b[0;34m)\u001b[0m\u001b[0;34m.\u001b[0m\u001b[0mdot\u001b[0m\u001b[0;34m(\u001b[0m\u001b[0mxrow\u001b[0m\u001b[0;34m-\u001b[0m\u001b[0mmymu\u001b[0m\u001b[0;34m)\u001b[0m\u001b[0;34m)\u001b[0m\u001b[0;34m\u001b[0m\u001b[0m\n\u001b[0m\u001b[1;32m     22\u001b[0m         \u001b[0;32mreturn\u001b[0m \u001b[0mnorm\u001b[0m\u001b[0;34m*\u001b[0m\u001b[0mmyexp\u001b[0m\u001b[0;34m\u001b[0m\u001b[0m\n\u001b[1;32m     23\u001b[0m     \u001b[0;31m#elif np.ndim(mysig2)==0:\u001b[0m\u001b[0;34m\u001b[0m\u001b[0;34m\u001b[0m\u001b[0m\n",
      "\u001b[0;31mIndexError\u001b[0m: index 11 is out of bounds for axis 0 with size 11"
     ]
    }
   ],
   "source": [
    "mu2, sig_2 = getGaussianParams(Xpart2, useMultivariate=True)\n",
    "ps = gaus(Xpart2, mu2, sig_2)\n",
    "psCV = gaus(Xcvpart2, mu2, sig_2)\n",
    "\n",
    "# Using the gaussian parameters from the full training set,\n",
    "# figure out the p-value for each point in the CV set\n",
    "#pCVs = gaus(None, None, None)\n",
    "\n",
    "# You should see a value epsilon of about 1.38e-18, and 117 anomalies found.\n",
    "bestF1, bestEps = selectThreshold(ycvpart2,psCV)\n",
    "anoms = [Xpart2[x] for x in range(Xpart2.shape[0]) if ps[x] < bestEps]\n",
    "print('# of anomalies found: ',len(anoms))"
   ]
  },
  {
   "cell_type": "markdown",
   "metadata": {},
   "source": [
    "### 2 Recommender Systems"
   ]
  },
  {
   "cell_type": "markdown",
   "metadata": {},
   "source": [
    "#### 2.1 Movie ratings dataset"
   ]
  },
  {
   "cell_type": "code",
   "execution_count": 124,
   "metadata": {},
   "outputs": [],
   "source": [
    "datafile = 'ex8_movies.mat'\n",
    "mat = scipy.io.loadmat( datafile )\n",
    "Y = mat['Y']\n",
    "R = mat['R']\n",
    "\n",
    "nm, nu = Y.shape\n",
    "# Y is 1682x943 containing ratings (1-5) of 1682 movies on 943 users\n",
    "# a rating of 0 means the movie wasn't rated\n",
    "# R is 1682x943 containing R(i,j) = 1 if user j gave a rating to movie i"
   ]
  },
  {
   "cell_type": "code",
   "execution_count": 123,
   "metadata": {},
   "outputs": [
    {
     "name": "stdout",
     "output_type": "stream",
     "text": [
      "dict_keys(['__header__', '__version__', '__globals__', 'Y', 'R'])\n"
     ]
    }
   ],
   "source": [
    "print(mat.keys())"
   ]
  },
  {
   "cell_type": "code",
   "execution_count": 125,
   "metadata": {},
   "outputs": [
    {
     "name": "stdout",
     "output_type": "stream",
     "text": [
      "Average rating for movie 1 (Toy Story): 3.88\n"
     ]
    },
    {
     "data": {
      "image/png": "[encoded data removed]",
      "text/plain": [
       "<matplotlib.figure.Figure at 0x1811b15978>"
      ]
     },
     "metadata": {},
     "output_type": "display_data"
    }
   ],
   "source": [
    "print('Average rating for movie 1 (Toy Story): %0.2f' % np.mean([ Y[0][x] for x in range(Y.shape[1]) if R[0][x] ]))\n",
    "\n",
    "# \"Visualize the ratings matrix\"\n",
    "fig = plt.figure(figsize=(6,6*(1682./943.)))\n",
    "dummy = plt.imshow(Y)\n",
    "dummy = plt.colorbar()\n",
    "dummy = plt.ylabel('Movies (%d)'%nm,fontsize=20)\n",
    "dummy = plt.xlabel('Users (%d)'%nu,fontsize=20)"
   ]
  },
  {
   "cell_type": "code",
   "execution_count": 19,
   "metadata": {
    "collapsed": true
   },
   "outputs": [],
   "source": [
    "# Throughout this part of the exercise, you will also be \n",
    "# working with the matrices, X and Theta\n",
    "# The i-th row of X corresponds to the feature vector x(i) for the i-th movie, \n",
    "# and the j-th row of Theta corresponds to one parameter vector θ(j), for the j-th user. \n",
    "# Both x(i) and θ(j) are n-dimensional vectors. For the purposes of this exercise, \n",
    "# you will use n = 100, and therefore, x(i) ∈ R100 and θ(j) ∈ R100. Correspondingly, \n",
    "# X is a nm × 100 matrix and Theta is a nu × 100 matrix."
   ]
  },
  {
   "cell_type": "markdown",
   "metadata": {},
   "source": [
    "#### 2.2 Collaborative filtering learning algorithm"
   ]
  },
  {
   "cell_type": "code",
   "execution_count": 128,
   "metadata": {},
   "outputs": [],
   "source": [
    "# Read in the movie params matrices\n",
    "datafile = 'ex8_movieParams.mat'\n",
    "mat = scipy.io.loadmat( datafile )\n",
    "X = mat['X']\n",
    "Theta = mat['Theta']\n",
    "nu = int(mat['num_users'])\n",
    "nm = int(mat['num_movies'])\n",
    "nf = int(mat['num_features'])\n",
    "\n",
    "# For now, reduce the data set size so that this runs faster\n",
    "nu = 4; nm = 5; nf = 3\n",
    "X = X[:nm,:nf]\n",
    "Theta = Theta[:nu,:nf]\n",
    "Y = Y[:nm,:nu]\n",
    "R = R[:nm,:nu]"
   ]
  },
  {
   "cell_type": "code",
   "execution_count": 127,
   "metadata": {},
   "outputs": [
    {
     "name": "stdout",
     "output_type": "stream",
     "text": [
      "dict_keys(['__header__', '__version__', '__globals__', 'X', 'Theta', 'num_users', 'num_movies', 'num_features'])\n"
     ]
    }
   ],
   "source": [
    "print(mat.keys())"
   ]
  },
  {
   "cell_type": "code",
   "execution_count": 129,
   "metadata": {},
   "outputs": [],
   "source": [
    "# The \"parameters\" we are minimizing are both the elements of the\n",
    "# X matrix (nm*nf) and of the Theta matrix (nu*nf)\n",
    "# To use off-the-shelf minimizers we need to flatten these matrices\n",
    "# into one long array\n",
    "def flattenParams(myX, myTheta):\n",
    "    \"\"\"\n",
    "    Hand this function an X matrix and a Theta matrix and it will flatten\n",
    "    it into into one long (nm*nf + nu*nf,1) shaped numpy array\n",
    "    \"\"\"\n",
    "    flatX = myX.ravel()\n",
    "    flatTheta = myTheta.ravel()\n",
    "    flattened_X_Theta = np.concatenate((flatX,flatTheta),axis=0)\n",
    "    return flattened_X_Theta\n",
    "\n",
    "# A utility function to re-shape the X and Theta will probably come in handy\n",
    "def reshapeParams(flattened_XandTheta, mynm, mynu, mynf):\n",
    "    assert flattened_XandTheta.shape[0] == int(nm*nf+nu*nf)\n",
    "    \n",
    "    reX = flattened_XandTheta[:int(mynm*mynf)].reshape((mynm,mynf))\n",
    "    reTheta = flattened_XandTheta[int(mynm*mynf):].reshape((mynu,mynf))\n",
    "    \n",
    "    return reX, reTheta"
   ]
  },
  {
   "cell_type": "markdown",
   "metadata": {},
   "source": [
    "##### 2.2.1 Collaborative filtering cost function and 2.2.3 Regularized cost function"
   ]
  },
  {
   "cell_type": "code",
   "execution_count": 130,
   "metadata": {},
   "outputs": [],
   "source": [
    "def cofiCostFunc(myparams, myY, myR, mynu, mynm, mynf, mylambda = 0.):\n",
    "    \n",
    "    # Unfold the X and Theta matrices from the flattened params\n",
    "    myX, myTheta = reshapeParams(myparams, mynm, mynu, mynf)\n",
    "  \n",
    "    # Note: \n",
    "    # X Shape is (nm x nf), Theta shape is (nu x nf), Y and R shape is (nm x nu)\n",
    "    # Behold! Complete vectorization\n",
    "    \n",
    "    # First dot theta and X together such that you get a matrix the same shape as Y\n",
    "    term1 = myX.dot(myTheta.T)\n",
    "    \n",
    "    # Then element-wise multiply that matrix by the R matrix\n",
    "    # so only terms from movies which that user rated are counted in the cost\n",
    "    term1 = term1*myR\n",
    "    \n",
    "    # Then subtract the Y- matrix (which has 0 entries for non-rated\n",
    "    # movies by each user, so no need to multiply that by myR... though, if\n",
    "    # a user could rate a movie \"0 stars\" then myY would have to be element-\n",
    "    # wise multiplied by myR as well) \n",
    "    # also square that whole term, sum all elements in the resulting matrix,\n",
    "    # and multiply by 0.5 to get the cost\n",
    "    cost = 0.5 * np.sum( np.square(term1-myY) )\n",
    "    \n",
    "    # Regularization stuff\n",
    "    cost += (mylambda/2.) * np.sum(np.square(myTheta))\n",
    "    cost += (mylambda/2.) * np.sum(np.square(myX))\n",
    "    \n",
    "    return cost"
   ]
  },
  {
   "cell_type": "code",
   "execution_count": 132,
   "metadata": {},
   "outputs": [
    {
     "name": "stdout",
     "output_type": "stream",
     "text": [
      "Cost with nu = 4, nm = 5, nf = 3 is 22.22.\n",
      "Cost with nu = 4, nm = 5, nf = 3 (and lambda = 1.5) is 31.34.\n"
     ]
    }
   ],
   "source": [
    "# \"...run your cost function. You should expect to see an output of 22.22.\"\n",
    "print('Cost with nu = 4, nm = 5, nf = 3 is %0.2f.' % cofiCostFunc(flattenParams(X,Theta),Y,R,nu,nm,nf))\n",
    "    \n",
    "# \"...with lambda = 1.5 you should expect to see an output of 31.34.\"\n",
    "print('Cost with nu = 4, nm = 5, nf = 3 (and lambda = 1.5) is %0.2f.' % cofiCostFunc(flattenParams(X,Theta),Y,R,nu,nm,nf,mylambda=1.5))"
   ]
  },
  {
   "cell_type": "markdown",
   "metadata": {},
   "source": [
    "##### 2.2.2 Collaborative filtering gradient and 2.2.4 Regularized gradient"
   ]
  },
  {
   "cell_type": "code",
   "execution_count": 162,
   "metadata": {},
   "outputs": [
    {
     "data": {
      "text/plain": [
       "(1682, 10)"
      ]
     },
     "execution_count": 162,
     "metadata": {},
     "output_type": "execute_result"
    }
   ],
   "source": [
    "X.shape"
   ]
  },
  {
   "cell_type": "code",
   "execution_count": 194,
   "metadata": {},
   "outputs": [],
   "source": [
    "# Remember: use the exact same input arguments for gradient function\n",
    "# as for the cost function (the off-the-shelf minimizer requires this)\n",
    "def cofiGrad(myparams, myY, myR, mynu, mynm, mynf, mylambda = 0.):\n",
    "    \n",
    "    # Unfold the X and Theta matrices from the flattened params\n",
    "    myX, myTheta = reshapeParams(myparams, mynm, mynu, mynf)\n",
    "\n",
    "    # First the X gradient term \n",
    "    # First dot theta and X together such that you get a matrix the same shape as Y\n",
    "    term1 = myX.dot(myTheta.T)\n",
    "    # Then multiply this term by myR to remove any components from movies that\n",
    "    # weren't rated by that user\n",
    "    term1 = np.multiply(term1.T,myR)\n",
    "    # Now subtract the y matrix (which already has 0 for nonrated movies)\n",
    "    term1 = (term1-myY)\n",
    "    # Lastly dot this with Theta such that the resulting matrix has the\n",
    "    # same shape as the X matrix\n",
    "    Xgrad = term1.T.dot(myTheta)\n",
    "    \n",
    "    # Now the Theta gradient term (reusing the \"term1\" variable)\n",
    "    Thetagrad = term1.dot(myX)\n",
    "\n",
    "    # Regularization stuff\n",
    "    Xgrad += mylambda * myX\n",
    "    Thetagrad += mylambda * myTheta\n",
    "    \n",
    "    return flattenParams(Xgrad, Thetagrad)"
   ]
  },
  {
   "cell_type": "code",
   "execution_count": 195,
   "metadata": {},
   "outputs": [],
   "source": [
    "#Let's check my gradient computation real quick:\n",
    "def checkGradient(myparams, myY, myR, mynu, mynm, mynf, mylambda = 0.):\n",
    "    \n",
    "    print('Numerical Gradient \\t cofiGrad \\t\\t Difference')\n",
    "    \n",
    "    # Compute a numerical gradient with an epsilon perturbation vector\n",
    "    myeps = 0.0001\n",
    "    nparams = len(myparams)\n",
    "    epsvec = np.zeros(nparams)\n",
    "    # These are my implemented gradient solutions\n",
    "    mygrads = cofiGrad(myparams, myY, myR, mynm, mynu, mynf, mylambda)\n",
    "\n",
    "    # Choose 10 random elements of my combined (X, Theta) param vector\n",
    "    # and compute the numerical gradient for each... print to screen\n",
    "    # the numerical gradient next to the my cofiGradient to inspect\n",
    "    \n",
    "    for i in range(10):\n",
    "        idx = np.random.randint(0,nparams)\n",
    "        epsvec[idx] = myeps\n",
    "        loss1 = cofiCostFunc(myparams-epsvec,myY,myR,mynu,mynm,mynf,mylambda)\n",
    "        loss2 = cofiCostFunc(myparams+epsvec,myY,myR,mynu,mynm,mynf,mylambda)\n",
    "        mygrad = (loss2 - loss1) / (2*myeps)\n",
    "        epsvec[idx] = 0\n",
    "        print('%0.15f \\t %0.15f \\t %0.15f' % (mygrad, mygrads[idx],mygrad - mygrads[idx]))"
   ]
  },
  {
   "cell_type": "code",
   "execution_count": 196,
   "metadata": {},
   "outputs": [
    {
     "name": "stdout",
     "output_type": "stream",
     "text": [
      "Checking gradient with lambda = 0...\n",
      "Numerical Gradient \t cofiGrad \t\t Difference\n",
      "-32.703279866836965 \t 1.094556477363056 \t -33.797836344200022\n",
      "-25.075064040720463 \t -19.404603789160898 \t -5.670460251559565\n",
      "-2.387141721555963 \t -46.465226689550413 \t 44.078084967994450\n",
      "-66.501939145382494 \t -86.577556876546737 \t 20.075617731164243\n",
      "-198.001310345716774 \t -35.870125419943705 \t -162.131184925773084\n",
      "-23.573373764520511 \t -2.421522130681473 \t -21.151851633839037\n",
      "-6.998795288382098 \t -8.594995265783206 \t 1.596199977401108\n",
      "6.044903566362336 \t 11.307334112005835 \t -5.262430545643499\n",
      "-7.628881430719048 \t 4.854411381167167 \t -12.483292811886216\n",
      "0.112205743789673 \t -0.934542112328053 \t 1.046747856117726\n",
      "\n",
      "Checking gradient with lambda = 1.5...\n",
      "Numerical Gradient \t cofiGrad \t\t Difference\n",
      "-3.180833155056462 \t -14.181758376977466 \t 11.000925221921005\n",
      "0.446472840849310 \t -50.598375848530452 \t 51.044848689379762\n",
      "-80.744730366859585 \t -16.823113639736782 \t -63.921616727122803\n",
      "0.301869295071810 \t -11.021722053393017 \t 11.323591348464827\n",
      "-1.016151218209416 \t -9.212297085609059 \t 8.196145867399643\n",
      "-3.174054145347327 \t 0.010931643655975 \t -3.184985789003302\n",
      "-121.000047365669161 \t -24.726888145543146 \t -96.273159220126018\n",
      "-58.337892114650458 \t -19.890004427523426 \t -38.447887687127036\n",
      "-39.353473694063723 \t 1.040468702553843 \t -40.393942396617568\n",
      "-13.644195132656023 \t -13.647552857792791 \t 0.003357725136768\n"
     ]
    }
   ],
   "source": [
    "print(\"Checking gradient with lambda = 0...\")\n",
    "checkGradient(flattenParams(X,Theta),Y,R,nu,nm,nf)\n",
    "print(\"\\nChecking gradient with lambda = 1.5...\")\n",
    "checkGradient(flattenParams(X,Theta),Y,R,nu,nm,nf,mylambda = 1.5)"
   ]
  },
  {
   "cell_type": "markdown",
   "metadata": {},
   "source": [
    "#### 2.3 Learning movie recommendations\n",
    "##### 2.3.1 Recommendations"
   ]
  },
  {
   "cell_type": "code",
   "execution_count": 197,
   "metadata": {},
   "outputs": [],
   "source": [
    "# So, this file has the list of movies and their respective index in the Y vector\n",
    "# Let's make a list of strings to reference later\n",
    "movies = []\n",
    "# The encoding on this file is different than the rest. Use ISO-8859-1 encoding\n",
    "f = open('movie_ids.txt', 'r', encoding = \"ISO-8859-1\")\n",
    "for line in f:\n",
    "    movies.append(' '.join(line.strip('\\n').split(' ')[1:]))\n",
    "\n",
    "# Rather than rate some movies myself, I'll use what was built-in to the homework\n",
    "# (just so I can check my solutions)\n",
    "my_ratings = np.zeros((1682,1))\n",
    "my_ratings[0]   = 4\n",
    "my_ratings[97]  = 2\n",
    "my_ratings[6]   = 3\n",
    "my_ratings[11]  = 5\n",
    "my_ratings[53]  = 4\n",
    "my_ratings[63]  = 5\n",
    "my_ratings[65]  = 3\n",
    "my_ratings[68]  = 5\n",
    "my_ratings[182] = 4\n",
    "my_ratings[225] = 5\n",
    "my_ratings[354] = 5"
   ]
  },
  {
   "cell_type": "code",
   "execution_count": 198,
   "metadata": {},
   "outputs": [],
   "source": [
    "# I'll re-read in the data because I shortened them earlier (to debug)\n",
    "datafile = 'ex8_movies.mat'\n",
    "mat = scipy.io.loadmat( datafile )\n",
    "Y = mat['Y']\n",
    "R = mat['R']\n",
    "# We'll use 10 features\n",
    "nf = 10"
   ]
  },
  {
   "cell_type": "code",
   "execution_count": 199,
   "metadata": {},
   "outputs": [
    {
     "name": "stdout",
     "output_type": "stream",
     "text": [
      "dict_keys(['__header__', '__version__', '__globals__', 'Y', 'R'])\n"
     ]
    }
   ],
   "source": [
    "print(mat.keys())"
   ]
  },
  {
   "cell_type": "code",
   "execution_count": 200,
   "metadata": {},
   "outputs": [],
   "source": [
    "# Add my ratings to the Y matrix, and the relevant row to the R matrix\n",
    "myR_row = my_ratings > 0\n",
    "Y = np.hstack((Y,my_ratings))\n",
    "R = np.hstack((R,myR_row))\n",
    "nm, nu = Y.shape"
   ]
  },
  {
   "cell_type": "code",
   "execution_count": 201,
   "metadata": {},
   "outputs": [],
   "source": [
    "def normalizeRatings(myY, myR):\n",
    "    \"\"\"\n",
    "    Preprocess data by subtracting mean rating for every movie (every row)\n",
    "    This is important because without this, a user who hasn't rated any movies\n",
    "    will have a predicted score of 0 for every movie, when in reality\n",
    "    they should have a predicted score of [average score of that movie].\n",
    "    \"\"\"\n",
    "\n",
    "    # The mean is only counting movies that were rated\n",
    "    Ymean = np.sum(myY,axis=1)/np.sum(myR,axis=1)\n",
    "    Ymean = Ymean.reshape((Ymean.shape[0],1))\n",
    "    \n",
    "    return myY-Ymean, Ymean    "
   ]
  },
  {
   "cell_type": "code",
   "execution_count": 202,
   "metadata": {},
   "outputs": [],
   "source": [
    "Ynorm, Ymean = normalizeRatings(Y,R)"
   ]
  },
  {
   "cell_type": "code",
   "execution_count": 203,
   "metadata": {},
   "outputs": [
    {
     "ename": "ValueError",
     "evalue": "operands could not be broadcast together with shapes (944,1682) (1682,944) ",
     "output_type": "error",
     "traceback": [
      "\u001b[0;31m---------------------------------------------------------------------------\u001b[0m",
      "\u001b[0;31mValueError\u001b[0m                                Traceback (most recent call last)",
      "\u001b[0;32m<ipython-input-203-f24a7b58a790>\u001b[0m in \u001b[0;36m<module>\u001b[0;34m()\u001b[0m\n\u001b[1;32m      8\u001b[0m \u001b[0;34m\u001b[0m\u001b[0m\n\u001b[1;32m      9\u001b[0m \u001b[0;31m# Training the actual model with fmin_cg\u001b[0m\u001b[0;34m\u001b[0m\u001b[0;34m\u001b[0m\u001b[0m\n\u001b[0;32m---> 10\u001b[0;31m \u001b[0mresult\u001b[0m \u001b[0;34m=\u001b[0m \u001b[0mscipy\u001b[0m\u001b[0;34m.\u001b[0m\u001b[0moptimize\u001b[0m\u001b[0;34m.\u001b[0m\u001b[0mfmin_cg\u001b[0m\u001b[0;34m(\u001b[0m\u001b[0mcofiCostFunc\u001b[0m\u001b[0;34m,\u001b[0m \u001b[0mx0\u001b[0m\u001b[0;34m=\u001b[0m\u001b[0mmyflat\u001b[0m\u001b[0;34m,\u001b[0m \u001b[0mfprime\u001b[0m\u001b[0;34m=\u001b[0m\u001b[0mcofiGrad\u001b[0m\u001b[0;34m,\u001b[0m                                \u001b[0margs\u001b[0m\u001b[0;34m=\u001b[0m\u001b[0;34m(\u001b[0m\u001b[0mY\u001b[0m\u001b[0;34m,\u001b[0m\u001b[0mR\u001b[0m\u001b[0;34m,\u001b[0m\u001b[0mnu\u001b[0m\u001b[0;34m,\u001b[0m\u001b[0mnm\u001b[0m\u001b[0;34m,\u001b[0m\u001b[0mnf\u001b[0m\u001b[0;34m,\u001b[0m\u001b[0mmylambda\u001b[0m\u001b[0;34m)\u001b[0m\u001b[0;34m,\u001b[0m                                 \u001b[0mmaxiter\u001b[0m\u001b[0;34m=\u001b[0m\u001b[0;36m50\u001b[0m\u001b[0;34m,\u001b[0m\u001b[0mdisp\u001b[0m\u001b[0;34m=\u001b[0m\u001b[0;32mTrue\u001b[0m\u001b[0;34m,\u001b[0m\u001b[0mfull_output\u001b[0m\u001b[0;34m=\u001b[0m\u001b[0;32mTrue\u001b[0m\u001b[0;34m)\u001b[0m\u001b[0;34m\u001b[0m\u001b[0m\n\u001b[0m",
      "\u001b[0;32m/anaconda3/lib/python3.6/site-packages/scipy/optimize/optimize.py\u001b[0m in \u001b[0;36mfmin_cg\u001b[0;34m(f, x0, fprime, args, gtol, norm, epsilon, maxiter, full_output, disp, retall, callback)\u001b[0m\n\u001b[1;32m   1205\u001b[0m             'return_all': retall}\n\u001b[1;32m   1206\u001b[0m \u001b[0;34m\u001b[0m\u001b[0m\n\u001b[0;32m-> 1207\u001b[0;31m     \u001b[0mres\u001b[0m \u001b[0;34m=\u001b[0m \u001b[0m_minimize_cg\u001b[0m\u001b[0;34m(\u001b[0m\u001b[0mf\u001b[0m\u001b[0;34m,\u001b[0m \u001b[0mx0\u001b[0m\u001b[0;34m,\u001b[0m \u001b[0margs\u001b[0m\u001b[0;34m,\u001b[0m \u001b[0mfprime\u001b[0m\u001b[0;34m,\u001b[0m \u001b[0mcallback\u001b[0m\u001b[0;34m=\u001b[0m\u001b[0mcallback\u001b[0m\u001b[0;34m,\u001b[0m \u001b[0;34m**\u001b[0m\u001b[0mopts\u001b[0m\u001b[0;34m)\u001b[0m\u001b[0;34m\u001b[0m\u001b[0m\n\u001b[0m\u001b[1;32m   1208\u001b[0m \u001b[0;34m\u001b[0m\u001b[0m\n\u001b[1;32m   1209\u001b[0m     \u001b[0;32mif\u001b[0m \u001b[0mfull_output\u001b[0m\u001b[0;34m:\u001b[0m\u001b[0;34m\u001b[0m\u001b[0m\n",
      "\u001b[0;32m/anaconda3/lib/python3.6/site-packages/scipy/optimize/optimize.py\u001b[0m in \u001b[0;36m_minimize_cg\u001b[0;34m(fun, x0, args, jac, callback, gtol, norm, eps, maxiter, disp, return_all, **unknown_options)\u001b[0m\n\u001b[1;32m   1256\u001b[0m     \u001b[0;32melse\u001b[0m\u001b[0;34m:\u001b[0m\u001b[0;34m\u001b[0m\u001b[0m\n\u001b[1;32m   1257\u001b[0m         \u001b[0mgrad_calls\u001b[0m\u001b[0;34m,\u001b[0m \u001b[0mmyfprime\u001b[0m \u001b[0;34m=\u001b[0m \u001b[0mwrap_function\u001b[0m\u001b[0;34m(\u001b[0m\u001b[0mfprime\u001b[0m\u001b[0;34m,\u001b[0m \u001b[0margs\u001b[0m\u001b[0;34m)\u001b[0m\u001b[0;34m\u001b[0m\u001b[0m\n\u001b[0;32m-> 1258\u001b[0;31m     \u001b[0mgfk\u001b[0m \u001b[0;34m=\u001b[0m \u001b[0mmyfprime\u001b[0m\u001b[0;34m(\u001b[0m\u001b[0mx0\u001b[0m\u001b[0;34m)\u001b[0m\u001b[0;34m\u001b[0m\u001b[0m\n\u001b[0m\u001b[1;32m   1259\u001b[0m     \u001b[0mk\u001b[0m \u001b[0;34m=\u001b[0m \u001b[0;36m0\u001b[0m\u001b[0;34m\u001b[0m\u001b[0m\n\u001b[1;32m   1260\u001b[0m     \u001b[0mxk\u001b[0m \u001b[0;34m=\u001b[0m \u001b[0mx0\u001b[0m\u001b[0;34m\u001b[0m\u001b[0m\n",
      "\u001b[0;32m/anaconda3/lib/python3.6/site-packages/scipy/optimize/optimize.py\u001b[0m in \u001b[0;36mfunction_wrapper\u001b[0;34m(*wrapper_args)\u001b[0m\n\u001b[1;32m    290\u001b[0m     \u001b[0;32mdef\u001b[0m \u001b[0mfunction_wrapper\u001b[0m\u001b[0;34m(\u001b[0m\u001b[0;34m*\u001b[0m\u001b[0mwrapper_args\u001b[0m\u001b[0;34m)\u001b[0m\u001b[0;34m:\u001b[0m\u001b[0;34m\u001b[0m\u001b[0m\n\u001b[1;32m    291\u001b[0m         \u001b[0mncalls\u001b[0m\u001b[0;34m[\u001b[0m\u001b[0;36m0\u001b[0m\u001b[0;34m]\u001b[0m \u001b[0;34m+=\u001b[0m \u001b[0;36m1\u001b[0m\u001b[0;34m\u001b[0m\u001b[0m\n\u001b[0;32m--> 292\u001b[0;31m         \u001b[0;32mreturn\u001b[0m \u001b[0mfunction\u001b[0m\u001b[0;34m(\u001b[0m\u001b[0;34m*\u001b[0m\u001b[0;34m(\u001b[0m\u001b[0mwrapper_args\u001b[0m \u001b[0;34m+\u001b[0m \u001b[0margs\u001b[0m\u001b[0;34m)\u001b[0m\u001b[0;34m)\u001b[0m\u001b[0;34m\u001b[0m\u001b[0m\n\u001b[0m\u001b[1;32m    293\u001b[0m \u001b[0;34m\u001b[0m\u001b[0m\n\u001b[1;32m    294\u001b[0m     \u001b[0;32mreturn\u001b[0m \u001b[0mncalls\u001b[0m\u001b[0;34m,\u001b[0m \u001b[0mfunction_wrapper\u001b[0m\u001b[0;34m\u001b[0m\u001b[0m\n",
      "\u001b[0;32m<ipython-input-194-81224863223e>\u001b[0m in \u001b[0;36mcofiGrad\u001b[0;34m(myparams, myY, myR, mynu, mynm, mynf, mylambda)\u001b[0m\n\u001b[1;32m     11\u001b[0m     \u001b[0;31m# Then multiply this term by myR to remove any components from movies that\u001b[0m\u001b[0;34m\u001b[0m\u001b[0;34m\u001b[0m\u001b[0m\n\u001b[1;32m     12\u001b[0m     \u001b[0;31m# weren't rated by that user\u001b[0m\u001b[0;34m\u001b[0m\u001b[0;34m\u001b[0m\u001b[0m\n\u001b[0;32m---> 13\u001b[0;31m     \u001b[0mterm1\u001b[0m \u001b[0;34m=\u001b[0m \u001b[0mnp\u001b[0m\u001b[0;34m.\u001b[0m\u001b[0mmultiply\u001b[0m\u001b[0;34m(\u001b[0m\u001b[0mterm1\u001b[0m\u001b[0;34m.\u001b[0m\u001b[0mT\u001b[0m\u001b[0;34m,\u001b[0m\u001b[0mmyR\u001b[0m\u001b[0;34m)\u001b[0m\u001b[0;34m\u001b[0m\u001b[0m\n\u001b[0m\u001b[1;32m     14\u001b[0m     \u001b[0;31m# Now subtract the y matrix (which already has 0 for nonrated movies)\u001b[0m\u001b[0;34m\u001b[0m\u001b[0;34m\u001b[0m\u001b[0m\n\u001b[1;32m     15\u001b[0m     \u001b[0mterm1\u001b[0m \u001b[0;34m=\u001b[0m \u001b[0;34m(\u001b[0m\u001b[0mterm1\u001b[0m\u001b[0;34m-\u001b[0m\u001b[0mmyY\u001b[0m\u001b[0;34m)\u001b[0m\u001b[0;34m\u001b[0m\u001b[0m\n",
      "\u001b[0;31mValueError\u001b[0m: operands could not be broadcast together with shapes (944,1682) (1682,944) "
     ]
    }
   ],
   "source": [
    "# Generate random initial parameters, Theta and X\n",
    "X = np.random.rand(nm,nf)\n",
    "Theta = np.random.rand(nu,nf)\n",
    "myflat = flattenParams(X, Theta)\n",
    "\n",
    "# Regularization parameter of 10 is used (as used in the homework assignment)\n",
    "mylambda = 10.\n",
    "\n",
    "# Training the actual model with fmin_cg\n",
    "result = scipy.optimize.fmin_cg(cofiCostFunc, x0=myflat, fprime=cofiGrad, \\\n",
    "                               args=(Y,R,nu,nm,nf,mylambda), \\\n",
    "                                maxiter=50,disp=True,full_output=True)"
   ]
  },
  {
   "cell_type": "code",
   "execution_count": 146,
   "metadata": {},
   "outputs": [],
   "source": [
    "# Reshape the trained output into sensible \"X\" and \"Theta\" matrices\n",
    "resX, resTheta = reshapeParams(result[0], nm, nu, nf)"
   ]
  },
  {
   "cell_type": "code",
   "execution_count": 147,
   "metadata": {},
   "outputs": [],
   "source": [
    "# After training the model, now make recommendations by computing\n",
    "# the predictions matrix\n",
    "prediction_matrix = X.dot(Theta.T)"
   ]
  },
  {
   "cell_type": "code",
   "execution_count": 148,
   "metadata": {},
   "outputs": [],
   "source": [
    "# Grab the last user's predictions (since I put my predictions at the\n",
    "# end of the Y matrix, not the front)\n",
    "# Add back in the mean movie ratings\n",
    "my_predictions = prediction_matrix[:,-1] + Ymean.flatten()"
   ]
  },
  {
   "cell_type": "code",
   "execution_count": 149,
   "metadata": {},
   "outputs": [
    {
     "name": "stdout",
     "output_type": "stream",
     "text": [
      "Top recommendations for you:\n",
      "Predicting rating 8.9 for movie Shall We Dance? (1996).\n",
      "Predicting rating 8.8 for movie Butch Cassidy and the Sundance Kid (1969).\n",
      "Predicting rating 8.7 for movie Wonderful, Horrible Life of Leni Riefenstahl, The (1993).\n",
      "Predicting rating 8.7 for movie Philadelphia Story, The (1940).\n",
      "Predicting rating 8.6 for movie Quiet Man, The (1952).\n",
      "Predicting rating 8.6 for movie Silence of the Lambs, The (1991).\n",
      "Predicting rating 8.6 for movie Psycho (1960).\n",
      "Predicting rating 8.6 for movie Close Shave, A (1995).\n",
      "Predicting rating 8.5 for movie Godfather, The (1972).\n",
      "Predicting rating 8.4 for movie Star Kid (1997).\n",
      "\n",
      "Original ratings provided:\n",
      "Rated 4 for movie Toy Story (1995).\n",
      "Rated 3 for movie Twelve Monkeys (1995).\n",
      "Rated 5 for movie Usual Suspects, The (1995).\n",
      "Rated 4 for movie Outbreak (1995).\n",
      "Rated 5 for movie Shawshank Redemption, The (1994).\n",
      "Rated 3 for movie While You Were Sleeping (1995).\n",
      "Rated 5 for movie Forrest Gump (1994).\n",
      "Rated 2 for movie Silence of the Lambs, The (1991).\n",
      "Rated 4 for movie Alien (1979).\n",
      "Rated 5 for movie Die Hard 2 (1990).\n",
      "Rated 5 for movie Sphere (1998).\n"
     ]
    }
   ],
   "source": [
    "# Sort my predictions from highest to lowest\n",
    "pred_idxs_sorted = np.argsort(my_predictions)\n",
    "pred_idxs_sorted[:] = pred_idxs_sorted[::-1]\n",
    "\n",
    "print(\"Top recommendations for you:\")\n",
    "for i in range(10):\n",
    "    print('Predicting rating %0.1f for movie %s.' % (my_predictions[pred_idxs_sorted[i]],movies[pred_idxs_sorted[i]]))\n",
    "    \n",
    "print(\"\\nOriginal ratings provided:\")\n",
    "for i in range(len(my_ratings)):\n",
    "    if my_ratings[i] > 0:\n",
    "        print('Rated %d for movie %s.' % (my_ratings[i],movies[i]))"
   ]
  },
  {
   "cell_type": "code",
   "execution_count": null,
   "metadata": {},
   "outputs": [],
   "source": []
  }
 ],
 "metadata": {
  "kernelspec": {
   "display_name": "Python 3",
   "language": "python",
   "name": "python3"
  },
  "language_info": {
   "codemirror_mode": {
    "name": "ipython",
    "version": 3
   },
   "file_extension": ".py",
   "mimetype": "text/x-python",
   "name": "python",
   "nbconvert_exporter": "python",
   "pygments_lexer": "ipython3",
   "version": "3.6.4"
  }
 },
 "nbformat": 4,
 "nbformat_minor": 2
}
